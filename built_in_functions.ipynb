{
  "nbformat": 4,
  "nbformat_minor": 0,
  "metadata": {
    "colab": {
      "provenance": [],
      "authorship_tag": "ABX9TyOzBDPXSsrKPsXD5Kie5Bax",
      "include_colab_link": true
    },
    "kernelspec": {
      "name": "python3",
      "display_name": "Python 3"
    },
    "language_info": {
      "name": "python"
    }
  },
  "cells": [
    {
      "cell_type": "markdown",
      "metadata": {
        "id": "view-in-github",
        "colab_type": "text"
      },
      "source": [
        "<a href=\"https://colab.research.google.com/github/subarnasaikia/built_in_functions/blob/main/built_in_functions.ipynb\" target=\"_parent\"><img src=\"https://colab.research.google.com/assets/colab-badge.svg\" alt=\"Open In Colab\"/></a>"
      ]
    },
    {
      "cell_type": "markdown",
      "source": [
        "Q. Define 68 built in functions of python along with programs for implementating them and screeenshots of output . You may combine few functions in same program."
      ],
      "metadata": {
        "id": "AJjWQ4K0b1y8"
      }
    },
    {
      "cell_type": "markdown",
      "source": [
        "1. input() - Used to take input from the user.\n",
        "2. print() - Used to display output.\n",
        "3. int() - Converts a value to an integer.\n",
        "4. float() - Converts a value to a floating-point number.\n",
        "5. str() - Converts a value to a string.\n",
        "6. bool() - Converts a value to a boolean (True or False).\n",
        "7. complex() - Creates a complex number."
      ],
      "metadata": {
        "id": "Z700bQOtf5qJ"
      }
    },
    {
      "cell_type": "code",
      "execution_count": 1,
      "metadata": {
        "id": "YB7fXZysbSu5",
        "colab": {
          "base_uri": "https://localhost:8080/"
        },
        "outputId": "d114e4d5-1986-4348-a15c-47e98728a5be"
      },
      "outputs": [
        {
          "output_type": "stream",
          "name": "stdout",
          "text": [
            "Enter a number: 234\n",
            "Integer Value: 234\n",
            "Float Value: 234.0\n",
            "String Value: 234\n",
            "Boolean Value: True\n",
            "Complex Value: (234+0j)\n"
          ]
        }
      ],
      "source": [
        "# Taking input from the user\n",
        "user_input = input(\"Enter a number: \")\n",
        "\n",
        "# Converting input to different types\n",
        "int_value = int(user_input)\n",
        "float_value = float(user_input)\n",
        "str_value = str(user_input)\n",
        "bool_value = bool(user_input)\n",
        "complex_value = complex(user_input)\n",
        "\n",
        "# Displaying the converted values\n",
        "print(\"Integer Value:\", int_value)\n",
        "print(\"Float Value:\", float_value)\n",
        "print(\"String Value:\", str_value)\n",
        "print(\"Boolean Value:\", bool_value)\n",
        "print(\"Complex Value:\", complex_value)"
      ]
    },
    {
      "cell_type": "markdown",
      "source": [
        "8. abs() - Returns the absolute value of a number.\n",
        "9. pow() - Returns the power of a number (x**y).\n",
        "10. round() - Rounds a number to the nearest integer or given precision.\n",
        "11. divmod() - Returns the quotient and remainder of division.\n",
        "12. sum() - Returns the sum of an iterable.\n",
        "13. len() - Returns the length of an object."
      ],
      "metadata": {
        "id": "72mWWR3Rhuh5"
      }
    },
    {
      "cell_type": "code",
      "source": [
        "# Using abs() to get the absolute value\n",
        "negative_num = -15\n",
        "print(\"Absolute Value:\", abs(negative_num))\n",
        "\n",
        "# Using pow() to calculate power\n",
        "base = 2\n",
        "exponent = 3\n",
        "print(\"Power (2^3):\", pow(base, exponent))\n",
        "\n",
        "# Using round() to round numbers\n",
        "num = 3.14159\n",
        "print(\"Rounded Value (2 decimal places):\", round(num, 2))\n",
        "\n",
        "# Using divmod() to get quotient and remainder\n",
        "quotient, remainder = divmod(10, 3)\n",
        "print(\"Quotient and Remainder:\", (quotient, remainder))\n",
        "\n",
        "# Using sum() to get the sum of elements in a list\n",
        "numbers = [1, 2, 3, 4, 5]\n",
        "print(\"Sum of List:\", sum(numbers))\n",
        "\n",
        "# Using len() to get the length of an object\n",
        "print(\"Length of List:\", len(numbers))\n"
      ],
      "metadata": {
        "colab": {
          "base_uri": "https://localhost:8080/"
        },
        "id": "SISi1BFVh9Lv",
        "outputId": "b1f14ed2-6f98-4cc7-845b-3c186d10a513"
      },
      "execution_count": 2,
      "outputs": [
        {
          "output_type": "stream",
          "name": "stdout",
          "text": [
            "Absolute Value: 15\n",
            "Power (2^3): 8\n",
            "Rounded Value (2 decimal places): 3.14\n",
            "Quotient and Remainder: (3, 1)\n",
            "Sum of List: 15\n",
            "Length of List: 5\n"
          ]
        }
      ]
    },
    {
      "cell_type": "markdown",
      "source": [
        "14. min() - Returns the minimum value from an iterable.\n",
        "15. max() - Returns the maximum value from an iterable.\n",
        "16. sorted() - Returns a sorted list from an iterable.\n",
        "17. reversed() - Returns an iterator that yields items in reverse order.\n",
        "18. set() - Converts an iterable into a set.\n",
        "19. dict() - Creates a dictionary.\n",
        "20. tuple() - Converts an iterable into a tuple.\n",
        "21. list() - Converts an iterable into a list."
      ],
      "metadata": {
        "id": "EeHfLRLSkLaU"
      }
    },
    {
      "cell_type": "code",
      "source": [
        "# Sample list of numbers\n",
        "numbers = [10, 5, 8, 20, 3]\n",
        "\n",
        "# Using min() and max()\n",
        "print(\"Minimum Value:\", min(numbers))\n",
        "print(\"Maximum Value:\", max(numbers))\n",
        "\n",
        "# Using sorted() and reversed()\n",
        "print(\"Sorted List:\", sorted(numbers))\n",
        "print(\"Reversed List:\", list(reversed(numbers)))\n",
        "\n",
        "# Using set() to remove duplicates\n",
        "duplicates = [1, 2, 2, 3, 4, 4, 5]\n",
        "print(\"Unique Elements:\", set(duplicates))\n",
        "\n",
        "# Using dict() to create a dictionary\n",
        "person = dict(name=\"Alice\", age=25, city=\"New York\")\n",
        "print(\"Dictionary:\", person)\n",
        "\n",
        "# Using tuple() to convert a list into a tuple\n",
        "tuple_data = tuple(numbers)\n",
        "print(\"Tuple:\", tuple_data)"
      ],
      "metadata": {
        "colab": {
          "base_uri": "https://localhost:8080/"
        },
        "id": "zPXYrYSskbv6",
        "outputId": "e0fad424-7828-4cb9-824e-dc98cf4972cf"
      },
      "execution_count": 3,
      "outputs": [
        {
          "output_type": "stream",
          "name": "stdout",
          "text": [
            "Minimum Value: 3\n",
            "Maximum Value: 20\n",
            "Sorted List: [3, 5, 8, 10, 20]\n",
            "Reversed List: [3, 20, 8, 5, 10]\n",
            "Unique Elements: {1, 2, 3, 4, 5}\n",
            "Dictionary: {'name': 'Alice', 'age': 25, 'city': 'New York'}\n",
            "Tuple: (10, 5, 8, 20, 3)\n"
          ]
        }
      ]
    },
    {
      "cell_type": "markdown",
      "source": [
        "22. hasattr() - Checks if an object has an attribute.\n",
        "23. setattr() - Sets an attribute of an object.\n",
        "24. getattr() - Gets an attribute of an object.\n",
        "25. delattr() - Deletes an attribute of an object."
      ],
      "metadata": {
        "id": "EKpYP-OLlHt3"
      }
    },
    {
      "cell_type": "code",
      "source": [
        "class Person:\n",
        "    def __init__(self, name):\n",
        "        self.name = name\n",
        "\n",
        "# Creating an instance of Person\n",
        "p = Person(\"Alice\")\n",
        "\n",
        "# Using hasattr() to check if an attribute exists\n",
        "print(\"Has attribute 'name':\", hasattr(p, \"name\"))\n",
        "\n",
        "# Using setattr() to set a new attribute\n",
        "setattr(p, \"age\", 25)\n",
        "print(\"Age after setattr():\", p.age)\n",
        "\n",
        "# Using getattr() to get the value of an attribute\n",
        "print(\"Name using getattr():\", getattr(p, \"name\"))\n",
        "\n",
        "# Using delattr() to delete an attribute\n",
        "delattr(p, \"age\")\n",
        "\n",
        "# Checking if 'age' still exists after deletion\n",
        "print(\"Has attribute 'age' after deletion:\", hasattr(p, \"age\"))\n"
      ],
      "metadata": {
        "colab": {
          "base_uri": "https://localhost:8080/"
        },
        "id": "D-9il5eHktgp",
        "outputId": "91c10bd3-ce87-4e14-dc63-1da6bfff12bf"
      },
      "execution_count": 4,
      "outputs": [
        {
          "output_type": "stream",
          "name": "stdout",
          "text": [
            "Has attribute 'name': True\n",
            "Age after setattr(): 25\n",
            "Name using getattr(): Alice\n",
            "Has attribute 'age' after deletion: False\n"
          ]
        }
      ]
    },
    {
      "cell_type": "markdown",
      "source": [
        "26. open() - Opens a file for reading or writing.\n",
        "27. write() - Writes data to a file.\n",
        "28. read() - Reads data from a file."
      ],
      "metadata": {
        "id": "nAS72soAnwTL"
      }
    },
    {
      "cell_type": "code",
      "source": [
        "# Opening a file in write mode and writing data\n",
        "with open(\"example.txt\", \"w\") as file:\n",
        "    file.write(\"Hello, this is a test file.\\n\")\n",
        "    file.write(\"Python file handling is easy!\")\n",
        "\n",
        "# Opening the same file in read mode and reading data\n",
        "with open(\"example.txt\", \"r\") as file:\n",
        "    content = file.read()\n",
        "    print(\"File Content:\\n\", content)\n"
      ],
      "metadata": {
        "colab": {
          "base_uri": "https://localhost:8080/"
        },
        "id": "Ie6bPOVyoEJB",
        "outputId": "8901c0e1-3688-4a51-b180-5bde28063c00"
      },
      "execution_count": 5,
      "outputs": [
        {
          "output_type": "stream",
          "name": "stdout",
          "text": [
            "File Content:\n",
            " Hello, this is a test file.\n",
            "Python file handling is easy!\n"
          ]
        }
      ]
    },
    {
      "cell_type": "markdown",
      "source": [
        "29. any() - Returns True if any element in an iterable is True.\n",
        "30. all() - Returns True if all elements in an iterable are True.\n",
        "31. map() - Applies a function to all elements in an iterable.\n",
        "32. filter() - Filters elements from an iterable based on a function.\n",
        "33. eval() - Evaluates a given string as a Python expression.\n",
        "34. exec() - Executes a string as Python code."
      ],
      "metadata": {
        "id": "shdU1AAKoXhG"
      }
    },
    {
      "cell_type": "code",
      "source": [
        "# any() and all() demonstration\n",
        "values = [0, 1, 2, 3]\n",
        "print(\"any():\", any(values))  # Returns True since at least one value is non-zero\n",
        "print(\"all():\", all(values))  # Returns False since 0 is present\n",
        "\n",
        "# map() demonstration (squares each number in the list)\n",
        "nums = [1, 2, 3, 4, 5]\n",
        "squared = list(map(lambda x: x**2, nums))\n",
        "print(\"Squared using map():\", squared)\n",
        "\n",
        "# filter() demonstration (filters even numbers)\n",
        "even_nums = list(filter(lambda x: x % 2 == 0, nums))\n",
        "print(\"Even numbers using filter():\", even_nums)\n",
        "\n",
        "# eval() demonstration\n",
        "expr = \"5 + 10 * 2\"\n",
        "print(\"Result of eval():\", eval(expr))  # Evaluates the expression as Python code\n",
        "\n",
        "# exec() demonstration\n",
        "code = \"\"\"\n",
        "a = 20\n",
        "b = 30\n",
        "print(\"Sum using exec():\", a + b)\n",
        "\"\"\"\n",
        "exec(code)  # Executes the given string as Python code\n"
      ],
      "metadata": {
        "colab": {
          "base_uri": "https://localhost:8080/"
        },
        "id": "DnpUWpVVqJbo",
        "outputId": "9fb019d4-a65d-4738-e2d8-d2f709b5b7b8"
      },
      "execution_count": 6,
      "outputs": [
        {
          "output_type": "stream",
          "name": "stdout",
          "text": [
            "any(): True\n",
            "all(): False\n",
            "Squared using map(): [1, 4, 9, 16, 25]\n",
            "Even numbers using filter(): [2, 4]\n",
            "Result of eval(): 25\n",
            "Sum using exec(): 50\n"
          ]
        }
      ]
    },
    {
      "cell_type": "markdown",
      "source": [
        "35. bin() - Converts an integer to a binary string.\n",
        "36. oct() - Converts an integer to an octal string.\n",
        "37. hex() - Converts an integer to a hexadecimal string.\n",
        "38. ord() - Returns the Unicode code of a character.\n",
        "39. chr() - Returns a character from a Unicode code.\n",
        "40. ascii() - Returns a string representation of an object with escape sequences.\n",
        "41. repr() - Returns a string representation of an object.\n",
        "42. bytes() - Converts an object into bytes.\n",
        "43. bytearray() - Returns a mutable sequence of bytes.\n",
        "44. memoryview() - Returns a memory view object of bytes.\n"
      ],
      "metadata": {
        "id": "GkBiVCySontx"
      }
    },
    {
      "cell_type": "code",
      "source": [
        "# Converting integer to different number systems\n",
        "num = 42\n",
        "print(\"Binary:\", bin(num))     # Converts to binary\n",
        "print(\"Octal:\", oct(num))      # Converts to octal\n",
        "print(\"Hexadecimal:\", hex(num)) # Converts to hexadecimal\n",
        "\n",
        "# Unicode conversions\n",
        "char = 'A'\n",
        "print(\"Unicode of 'A':\", ord(char))  # Returns Unicode code\n",
        "print(\"Character from Unicode 66:\", chr(66))  # Returns character\n",
        "\n",
        "# String representation functions\n",
        "text = \"Hello\\nWorld\"\n",
        "print(\"ASCII representation:\", ascii(text))  # Shows escape sequences\n",
        "print(\"repr() representation:\", repr(text))  # String representation\n",
        "\n",
        "# Bytes and memory view functions\n",
        "byte_obj = bytes(\"Hello\", \"utf-8\")  # Converts to bytes\n",
        "print(\"Bytes:\", byte_obj)\n",
        "\n",
        "byte_arr = bytearray([65, 66, 67, 68])  # Creates a mutable byte sequence\n",
        "print(\"Bytearray:\", byte_arr)\n",
        "\n",
        "mem_view = memoryview(byte_obj)  # Creates a memory view of bytes\n",
        "print(\"MemoryView:\", mem_view.tolist())  # Converts memory view to a list\n"
      ],
      "metadata": {
        "colab": {
          "base_uri": "https://localhost:8080/"
        },
        "id": "YrGIC2PoqVUZ",
        "outputId": "676bbe19-9fb2-48fb-f889-506950b04755"
      },
      "execution_count": 7,
      "outputs": [
        {
          "output_type": "stream",
          "name": "stdout",
          "text": [
            "Binary: 0b101010\n",
            "Octal: 0o52\n",
            "Hexadecimal: 0x2a\n",
            "Unicode of 'A': 65\n",
            "Character from Unicode 66: B\n",
            "ASCII representation: 'Hello\\nWorld'\n",
            "repr() representation: 'Hello\\nWorld'\n",
            "Bytes: b'Hello'\n",
            "Bytearray: bytearray(b'ABCD')\n",
            "MemoryView: [72, 101, 108, 108, 111]\n"
          ]
        }
      ]
    },
    {
      "cell_type": "markdown",
      "source": [
        "45. callable() - Checks if an object is callable.\n",
        "46. hash() - Returns the hash value of an object.\n",
        "47. id() - Returns the unique identifier of an object.\n",
        "48. isinstance() - Checks if an object is an instance of a class.\n",
        "49. issubclass() - Checks if a class is a subclass of another.\n",
        "50. frozenset() - Creates an immutable set.\n"
      ],
      "metadata": {
        "id": "FwTmbeN7px2M"
      }
    },
    {
      "cell_type": "code",
      "source": [
        "# Example function to check if an object is callable\n",
        "def example_func():\n",
        "    return \"Hello, World!\"\n",
        "\n",
        "print(\"Is example_func callable?\", callable(example_func))  # True\n",
        "print(\"Is 10 callable?\", callable(10))  # False\n",
        "\n",
        "# Hash function example\n",
        "print(\"Hash of 'Hello':\", hash(\"Hello\"))\n",
        "print(\"Hash of 123:\", hash(123))\n",
        "\n",
        "# ID function example\n",
        "x = 42\n",
        "print(\"ID of x:\", id(x))\n",
        "\n",
        "# isinstance() example\n",
        "class Animal:\n",
        "    pass\n",
        "\n",
        "class Dog(Animal):\n",
        "    pass\n",
        "\n",
        "d = Dog()\n",
        "print(\"Is d an instance of Dog?\", isinstance(d, Dog))  # True\n",
        "print(\"Is d an instance of Animal?\", isinstance(d, Animal))  # True\n",
        "print(\"Is d an instance of str?\", isinstance(d, str))  # False\n",
        "\n",
        "# issubclass() example\n",
        "print(\"Is Dog a subclass of Animal?\", issubclass(Dog, Animal))  # True\n",
        "print(\"Is Animal a subclass of Dog?\", issubclass(Animal, Dog))  # False\n",
        "\n",
        "# frozenset example\n",
        "my_set = frozenset([1, 2, 3, 4])\n",
        "print(\"Frozen set:\", my_set)\n",
        "# my_set.add(5)  # This will raise an error since frozenset is immutable\n"
      ],
      "metadata": {
        "colab": {
          "base_uri": "https://localhost:8080/"
        },
        "id": "vTcswrCaqoWf",
        "outputId": "86e87a61-23e2-4fdd-8bf8-c67911d98f6a"
      },
      "execution_count": 8,
      "outputs": [
        {
          "output_type": "stream",
          "name": "stdout",
          "text": [
            "Is example_func callable? True\n",
            "Is 10 callable? False\n",
            "Hash of 'Hello': 3950239492227300072\n",
            "Hash of 123: 123\n",
            "ID of x: 10752168\n",
            "Is d an instance of Dog? True\n",
            "Is d an instance of Animal? True\n",
            "Is d an instance of str? False\n",
            "Is Dog a subclass of Animal? True\n",
            "Is Animal a subclass of Dog? False\n",
            "Frozen set: frozenset({1, 2, 3, 4})\n"
          ]
        }
      ]
    },
    {
      "cell_type": "markdown",
      "source": [
        "51. zip() - Combines multiple iterables into tuples.\n",
        "52. enumerate() - Adds an index to an iterable.\n",
        "53. next() - Retrieves the next item from an iterator.\n",
        "54. iter() - Returns an iterator from an object.\n",
        "55. slice() - Creates a slice object.\n"
      ],
      "metadata": {
        "id": "84srNK-fp5di"
      }
    },
    {
      "cell_type": "code",
      "source": [
        "# zip() example - combines multiple iterables into tuples\n",
        "names = [\"Alice\", \"Bob\", \"Charlie\"]\n",
        "ages = [25, 30, 35]\n",
        "zipped_data = zip(names, ages)\n",
        "print(\"Zipped Data:\", list(zipped_data))  # Converts zip object to a list of tuples\n",
        "\n",
        "# enumerate() example - adds an index to an iterable\n",
        "for index, name in enumerate(names, start=1):\n",
        "    print(f\"{index}. {name}\")\n",
        "\n",
        "# iter() and next() example - manually iterating through a list\n",
        "num_list = [10, 20, 30]\n",
        "num_iter = iter(num_list)  # Create an iterator\n",
        "print(\"First element:\", next(num_iter))  # 10\n",
        "print(\"Second element:\", next(num_iter))  # 20\n",
        "print(\"Third element:\", next(num_iter))  # 30\n",
        "\n",
        "# slice() example - creating and using a slice object\n",
        "numbers = [0, 1, 2, 3, 4, 5, 6, 7, 8, 9]\n",
        "slice_obj = slice(2, 7, 2)  # Start from index 2, stop at 7, step 2\n",
        "print(\"Sliced numbers:\", numbers[slice_obj])  # Output: [2, 4, 6]\n"
      ],
      "metadata": {
        "colab": {
          "base_uri": "https://localhost:8080/"
        },
        "id": "_LxTi-kWqxfd",
        "outputId": "e8a83f13-158a-45ce-b798-1eb6ee19fd3d"
      },
      "execution_count": 9,
      "outputs": [
        {
          "output_type": "stream",
          "name": "stdout",
          "text": [
            "Zipped Data: [('Alice', 25), ('Bob', 30), ('Charlie', 35)]\n",
            "1. Alice\n",
            "2. Bob\n",
            "3. Charlie\n",
            "First element: 10\n",
            "Second element: 20\n",
            "Third element: 30\n",
            "Sliced numbers: [2, 4, 6]\n"
          ]
        }
      ]
    },
    {
      "cell_type": "markdown",
      "source": [
        "56. range() - Returns a sequence of numbers.\n",
        "57. format() - Formats a value into a string.\n",
        "58. super() - Refers to the parent class.\n",
        "59. classmethod() - Converts a method into a class method.\n",
        "60. staticmethod() - Converts a method into a static method.\n"
      ],
      "metadata": {
        "id": "DENDDi-Pp8cy"
      }
    },
    {
      "cell_type": "code",
      "source": [
        "# range() example - generates a sequence of numbers\n",
        "print(\"Range example:\", list(range(1, 6)))  # [1, 2, 3, 4, 5]\n",
        "\n",
        "# format() example - formats a string\n",
        "pi = 3.14159\n",
        "print(\"Formatted Pi:\", format(pi, \".2f\"))  # \"3.14\" (2 decimal places)\n",
        "\n",
        "# Using super() to call a parent class method\n",
        "class Parent:\n",
        "    def greet(self):\n",
        "        return \"Hello from Parent\"\n",
        "\n",
        "class Child(Parent):\n",
        "    def greet(self):\n",
        "        return super().greet() + \" and Child\"\n",
        "\n",
        "child = Child()\n",
        "print(child.greet())  # \"Hello from Parent and Child\"\n",
        "\n",
        "# Using classmethod()\n",
        "class Example:\n",
        "    count = 0\n",
        "\n",
        "    @classmethod\n",
        "    def increment(cls):\n",
        "        cls.count += 1\n",
        "        return cls.count\n",
        "\n",
        "print(\"Class method output:\", Example.increment())  # 1\n",
        "print(\"Class method output:\", Example.increment())  # 2\n",
        "\n",
        "# Using staticmethod()\n",
        "class Math:\n",
        "    @staticmethod\n",
        "    def add(a, b):\n",
        "        return a + b\n",
        "\n",
        "print(\"Static method output:\", Math.add(5, 10))  # 15\n"
      ],
      "metadata": {
        "colab": {
          "base_uri": "https://localhost:8080/"
        },
        "id": "y1lYO92Fpiiv",
        "outputId": "75ffee5f-7cd2-45ad-d5c3-e28d8f0a1f6f"
      },
      "execution_count": 10,
      "outputs": [
        {
          "output_type": "stream",
          "name": "stdout",
          "text": [
            "Range example: [1, 2, 3, 4, 5]\n",
            "Formatted Pi: 3.14\n",
            "Hello from Parent and Child\n",
            "Class method output: 1\n",
            "Class method output: 2\n",
            "Static method output: 15\n"
          ]
        }
      ]
    },
    {
      "cell_type": "markdown",
      "source": [
        "61. property() - Returns a property object.\n",
        "62. help() - Displays help information about an object.\n",
        "63. dir() - Lists all attributes of an object.\n",
        "64. globals() - Returns the global symbol table as a dictionary.\n",
        "65. locals() - Returns the local symbol table as a dictionary.\n",
        "66. vars() - Returns the __dict__ attribute of an object.\n",
        "67. compile() - Compiles a string into Python bytecode.\n",
        "68. del() - Deletes a variable or object reference."
      ],
      "metadata": {
        "id": "rl11z6UYp-kp"
      }
    },
    {
      "cell_type": "code",
      "source": [
        "# property() example - creating a getter and setter\n",
        "class Person:\n",
        "    def __init__(self, name):\n",
        "        self._name = name\n",
        "\n",
        "    def get_name(self):\n",
        "        return self._name\n",
        "\n",
        "    def set_name(self, value):\n",
        "        self._name = value\n",
        "\n",
        "    name = property(get_name, set_name)  # Creating a property\n",
        "\n"
      ],
      "metadata": {
        "id": "2szoZ_kdrNdl"
      },
      "execution_count": 12,
      "outputs": []
    },
    {
      "cell_type": "code",
      "source": [
        "p = Person(\"Subarna\")\n",
        "print(\"Person's name:\", p.name)  # Using the property getter\n",
        "p.name = \"Saikia\"  # Using the property setter\n",
        "print(\"Updated name:\", p.name)"
      ],
      "metadata": {
        "colab": {
          "base_uri": "https://localhost:8080/"
        },
        "id": "-iD4il-frbKM",
        "outputId": "10252e10-cd44-49d9-de23-62e754952bcb"
      },
      "execution_count": 13,
      "outputs": [
        {
          "output_type": "stream",
          "name": "stdout",
          "text": [
            "Person's name: Subarna\n",
            "Updated name: Saikia\n"
          ]
        }
      ]
    },
    {
      "cell_type": "code",
      "source": [
        "# help() example - displays documentation about a function or object\n",
        "print(\"\\nHelp on the list object:\")\n",
        "help(list)\n",
        "\n",
        "# dir() example - lists all attributes and methods of an object\n",
        "print(\"\\nList attributes and methods:\", dir(list))"
      ],
      "metadata": {
        "colab": {
          "base_uri": "https://localhost:8080/"
        },
        "id": "rh_s2URoreJl",
        "outputId": "4a401cdd-506e-4312-a42b-32b837afdc84"
      },
      "execution_count": 14,
      "outputs": [
        {
          "output_type": "stream",
          "name": "stdout",
          "text": [
            "\n",
            "Help on the list object:\n",
            "Help on class list in module builtins:\n",
            "\n",
            "class list(object)\n",
            " |  list(iterable=(), /)\n",
            " |  \n",
            " |  Built-in mutable sequence.\n",
            " |  \n",
            " |  If no argument is given, the constructor creates a new empty list.\n",
            " |  The argument must be an iterable if specified.\n",
            " |  \n",
            " |  Methods defined here:\n",
            " |  \n",
            " |  __add__(self, value, /)\n",
            " |      Return self+value.\n",
            " |  \n",
            " |  __contains__(self, key, /)\n",
            " |      Return key in self.\n",
            " |  \n",
            " |  __delitem__(self, key, /)\n",
            " |      Delete self[key].\n",
            " |  \n",
            " |  __eq__(self, value, /)\n",
            " |      Return self==value.\n",
            " |  \n",
            " |  __ge__(self, value, /)\n",
            " |      Return self>=value.\n",
            " |  \n",
            " |  __getattribute__(self, name, /)\n",
            " |      Return getattr(self, name).\n",
            " |  \n",
            " |  __getitem__(...)\n",
            " |      x.__getitem__(y) <==> x[y]\n",
            " |  \n",
            " |  __gt__(self, value, /)\n",
            " |      Return self>value.\n",
            " |  \n",
            " |  __iadd__(self, value, /)\n",
            " |      Implement self+=value.\n",
            " |  \n",
            " |  __imul__(self, value, /)\n",
            " |      Implement self*=value.\n",
            " |  \n",
            " |  __init__(self, /, *args, **kwargs)\n",
            " |      Initialize self.  See help(type(self)) for accurate signature.\n",
            " |  \n",
            " |  __iter__(self, /)\n",
            " |      Implement iter(self).\n",
            " |  \n",
            " |  __le__(self, value, /)\n",
            " |      Return self<=value.\n",
            " |  \n",
            " |  __len__(self, /)\n",
            " |      Return len(self).\n",
            " |  \n",
            " |  __lt__(self, value, /)\n",
            " |      Return self<value.\n",
            " |  \n",
            " |  __mul__(self, value, /)\n",
            " |      Return self*value.\n",
            " |  \n",
            " |  __ne__(self, value, /)\n",
            " |      Return self!=value.\n",
            " |  \n",
            " |  __repr__(self, /)\n",
            " |      Return repr(self).\n",
            " |  \n",
            " |  __reversed__(self, /)\n",
            " |      Return a reverse iterator over the list.\n",
            " |  \n",
            " |  __rmul__(self, value, /)\n",
            " |      Return value*self.\n",
            " |  \n",
            " |  __setitem__(self, key, value, /)\n",
            " |      Set self[key] to value.\n",
            " |  \n",
            " |  __sizeof__(self, /)\n",
            " |      Return the size of the list in memory, in bytes.\n",
            " |  \n",
            " |  append(self, object, /)\n",
            " |      Append object to the end of the list.\n",
            " |  \n",
            " |  clear(self, /)\n",
            " |      Remove all items from list.\n",
            " |  \n",
            " |  copy(self, /)\n",
            " |      Return a shallow copy of the list.\n",
            " |  \n",
            " |  count(self, value, /)\n",
            " |      Return number of occurrences of value.\n",
            " |  \n",
            " |  extend(self, iterable, /)\n",
            " |      Extend list by appending elements from the iterable.\n",
            " |  \n",
            " |  index(self, value, start=0, stop=9223372036854775807, /)\n",
            " |      Return first index of value.\n",
            " |      \n",
            " |      Raises ValueError if the value is not present.\n",
            " |  \n",
            " |  insert(self, index, object, /)\n",
            " |      Insert object before index.\n",
            " |  \n",
            " |  pop(self, index=-1, /)\n",
            " |      Remove and return item at index (default last).\n",
            " |      \n",
            " |      Raises IndexError if list is empty or index is out of range.\n",
            " |  \n",
            " |  remove(self, value, /)\n",
            " |      Remove first occurrence of value.\n",
            " |      \n",
            " |      Raises ValueError if the value is not present.\n",
            " |  \n",
            " |  reverse(self, /)\n",
            " |      Reverse *IN PLACE*.\n",
            " |  \n",
            " |  sort(self, /, *, key=None, reverse=False)\n",
            " |      Sort the list in ascending order and return None.\n",
            " |      \n",
            " |      The sort is in-place (i.e. the list itself is modified) and stable (i.e. the\n",
            " |      order of two equal elements is maintained).\n",
            " |      \n",
            " |      If a key function is given, apply it once to each list item and sort them,\n",
            " |      ascending or descending, according to their function values.\n",
            " |      \n",
            " |      The reverse flag can be set to sort in descending order.\n",
            " |  \n",
            " |  ----------------------------------------------------------------------\n",
            " |  Class methods defined here:\n",
            " |  \n",
            " |  __class_getitem__(...)\n",
            " |      See PEP 585\n",
            " |  \n",
            " |  ----------------------------------------------------------------------\n",
            " |  Static methods defined here:\n",
            " |  \n",
            " |  __new__(*args, **kwargs)\n",
            " |      Create and return a new object.  See help(type) for accurate signature.\n",
            " |  \n",
            " |  ----------------------------------------------------------------------\n",
            " |  Data and other attributes defined here:\n",
            " |  \n",
            " |  __hash__ = None\n",
            "\n",
            "\n",
            "List attributes and methods: ['__add__', '__class__', '__class_getitem__', '__contains__', '__delattr__', '__delitem__', '__dir__', '__doc__', '__eq__', '__format__', '__ge__', '__getattribute__', '__getitem__', '__getstate__', '__gt__', '__hash__', '__iadd__', '__imul__', '__init__', '__init_subclass__', '__iter__', '__le__', '__len__', '__lt__', '__mul__', '__ne__', '__new__', '__reduce__', '__reduce_ex__', '__repr__', '__reversed__', '__rmul__', '__setattr__', '__setitem__', '__sizeof__', '__str__', '__subclasshook__', 'append', 'clear', 'copy', 'count', 'extend', 'index', 'insert', 'pop', 'remove', 'reverse', 'sort']\n"
          ]
        }
      ]
    },
    {
      "cell_type": "code",
      "source": [
        "# globals() example - returns a dictionary of global variables\n",
        "print(\"\\nGlobal variables:\", globals().keys())"
      ],
      "metadata": {
        "colab": {
          "base_uri": "https://localhost:8080/"
        },
        "id": "j-VwjjWgrkf8",
        "outputId": "3b0845c0-a643-40cf-dcaf-b3fdb3e12352"
      },
      "execution_count": 15,
      "outputs": [
        {
          "output_type": "stream",
          "name": "stdout",
          "text": [
            "\n",
            "Global variables: dict_keys(['__name__', '__doc__', '__package__', '__loader__', '__spec__', '__builtin__', '__builtins__', '_ih', '_oh', '_dh', 'In', 'Out', 'get_ipython', 'exit', 'quit', '_', '__', '___', '_i', '_ii', '_iii', '_i1', 'user_input', 'int_value', 'float_value', 'str_value', 'bool_value', 'complex_value', '_i2', 'negative_num', 'base', 'exponent', 'num', 'quotient', 'remainder', 'numbers', '_i3', 'duplicates', 'person', 'tuple_data', '_i4', 'Person', 'p', '_i5', 'file', 'content', '_i6', 'values', 'nums', 'squared', 'even_nums', 'expr', 'code', 'b', '_i7', 'char', 'text', 'byte_obj', 'byte_arr', 'mem_view', '_i8', 'example_func', 'x', 'Animal', 'Dog', 'd', 'my_set', '_i9', 'names', 'ages', 'zipped_data', 'index', 'name', 'num_list', 'num_iter', 'slice_obj', '_i10', 'pi', 'Parent', 'Child', 'child', 'Example', 'Math', '_i11', 'test_locals', 'Sample', 's', 'code_str', 'compiled_code', '_i12', '_i13', '_i14', '_i15'])\n"
          ]
        }
      ]
    },
    {
      "cell_type": "code",
      "source": [
        "# locals() example - returns a dictionary of local variables\n",
        "def test_locals():\n",
        "    x = 10\n",
        "    y = 20\n",
        "    print(\"\\nLocal variables:\", locals())\n",
        "\n",
        "test_locals()"
      ],
      "metadata": {
        "colab": {
          "base_uri": "https://localhost:8080/"
        },
        "id": "AWZ_5EK0ro6f",
        "outputId": "b9baf9be-6151-44b3-c88f-206192a3a9b4"
      },
      "execution_count": 16,
      "outputs": [
        {
          "output_type": "stream",
          "name": "stdout",
          "text": [
            "\n",
            "Local variables: {'x': 10, 'y': 20}\n"
          ]
        }
      ]
    },
    {
      "cell_type": "code",
      "source": [
        "# vars() example - returns __dict__ attribute of an object\n",
        "class Sample:\n",
        "    def __init__(self, a, b):\n",
        "        self.a = a\n",
        "        self.b = b\n",
        "\n",
        "s = Sample(5, 10)\n",
        "print(\"\\nObject attributes:\", vars(s))"
      ],
      "metadata": {
        "colab": {
          "base_uri": "https://localhost:8080/"
        },
        "id": "3z60djXWrsQs",
        "outputId": "d5e6f659-d336-409b-bdca-e8d7273dea36"
      },
      "execution_count": 17,
      "outputs": [
        {
          "output_type": "stream",
          "name": "stdout",
          "text": [
            "\n",
            "Object attributes: {'a': 5, 'b': 10}\n"
          ]
        }
      ]
    },
    {
      "cell_type": "code",
      "source": [
        "# compile() example - compiles and executes a Python code string\n",
        "code_str = \"print('Compiled and executed!')\"\n",
        "compiled_code = compile(code_str, \"<string>\", \"exec\")\n",
        "exec(compiled_code)\n",
        "\n",
        "# del example - deletes a variable\n",
        "a = 100\n",
        "print(\"\\nBefore deletion, a =\", a)\n",
        "del a\n",
        "try:\n",
        "    print(a)  # This will raise an error\n",
        "except NameError:\n",
        "    print(\"Variable 'a' is deleted!\")"
      ],
      "metadata": {
        "colab": {
          "base_uri": "https://localhost:8080/"
        },
        "id": "rC8FsuOQrvBV",
        "outputId": "7219412d-cd88-4d7a-e1d7-af46aff0b49a"
      },
      "execution_count": 18,
      "outputs": [
        {
          "output_type": "stream",
          "name": "stdout",
          "text": [
            "Compiled and executed!\n",
            "\n",
            "Before deletion, a = 100\n",
            "Variable 'a' is deleted!\n"
          ]
        }
      ]
    }
  ]
}